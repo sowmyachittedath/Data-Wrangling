{
 "cells": [
  {
   "cell_type": "markdown",
   "metadata": {},
   "source": [
    "## Question 1 :\n",
    "\n",
    "### Research on whether addition, subtraction, multiplication, division, floor division and modulo operations be performed on complex numbers. Based on your study, implement a Python program to demonstrate these operations.\n"
   ]
  },
  {
   "cell_type": "code",
   "execution_count": 24,
   "metadata": {},
   "outputs": [
    {
     "name": "stdout",
     "output_type": "stream",
     "text": [
      "Enter the real part of first number4\n",
      "Enter the imaginary part of first number3\n",
      "Enter the real part of second number2\n",
      "Enter the imaginary part of second number1\n",
      "Sum is  (6+4j)\n",
      "Difference is  (2+2j)\n",
      "Product is  (5+10j)\n",
      "Quotient is  (2.2+0.4j)\n"
     ]
    }
   ],
   "source": [
    "#Floor division amd Modulo division cannot be performed on complex numbers\n",
    "\n",
    "first_real = int(input(\"Enter the real part of first number\"))\n",
    "first_img = int(input(\"Enter the imaginary part of first number\"))\n",
    "sec_real = int(input(\"Enter the real part of second number\"))\n",
    "sec_img = int(input(\"Enter the imaginary part of second number\"))\n",
    "first = complex(first_real,first_img)\n",
    "second = complex(sec_real,sec_img)\n",
    "\n",
    "print(\"Sum is \", first+second)\n",
    "print(\"Difference is \", first-second)\n",
    "print(\"Product is \", first*second)\n",
    "print(\"Quotient is \", first/second)"
   ]
  },
  {
   "cell_type": "markdown",
   "metadata": {},
   "source": [
    "## Question 2 :\n",
    "\n",
    "### Research on range() functions and its parameters. Create a markdown cell and write in your own words (no copy-paste from google please) what you understand about it. Implement a small program of your choice on the same.\n"
   ]
  },
  {
   "cell_type": "markdown",
   "metadata": {},
   "source": [
    "## Three types of range()\n",
    "\n",
    "range(end_index)\n",
    "\n",
    "range(10)  = will have values from 0 to 9\n",
    "\n",
    "range (start,end)\n",
    "\n",
    "range(2,10)  = will have values from 2 to 9\n",
    "\n",
    "ramge(start,end,step)\n",
    "\n",
    "range(0,10,2) = will hve values 0,2,4,6,8\n",
    "\n"
   ]
  },
  {
   "cell_type": "code",
   "execution_count": 3,
   "metadata": {},
   "outputs": [
    {
     "name": "stdout",
     "output_type": "stream",
     "text": [
      "Sum is  45\n",
      "Product is  362880\n",
      "Sum of even numbers  20\n"
     ]
    }
   ],
   "source": [
    "sum = 0\n",
    "for i in range(10):\n",
    "    sum = sum + i\n",
    "print(\"Sum is \",sum)\n",
    "\n",
    "product = 1\n",
    "for i in range(2,10):\n",
    "    product = product * i\n",
    "print(\"Product is \",product)\n",
    "\n",
    "sum_even = 0\n",
    "for i in range(0,10,2):\n",
    "    sum_even = sum_even + i\n",
    "print(\"Sum of even numbers \",sum_even)"
   ]
  },
  {
   "cell_type": "markdown",
   "metadata": {},
   "source": [
    "## Question 3:\n",
    "\n",
    "### Consider two numbers. Perform their subtraction and if the result of subtraction is greater than 25, print their multiplication result else print their division result.\n"
   ]
  },
  {
   "cell_type": "code",
   "execution_count": 8,
   "metadata": {},
   "outputs": [
    {
     "name": "stdout",
     "output_type": "stream",
     "text": [
      "Enter first number25\n",
      "Enter second number75\n",
      "Difference is greater than 25. Product is  1875\n"
     ]
    }
   ],
   "source": [
    "first = eval(input(\"Enter first number\"))\n",
    "second = eval(input(\"Enter second number\"))\n",
    "sub = second - first\n",
    "if sub>25:\n",
    "    print(\"Difference is greater than 25. Product is \",first*second)\n",
    "else:\n",
    "    print(\"Difference is lesser than 25. Quotient is \",second/first)"
   ]
  },
  {
   "cell_type": "markdown",
   "metadata": {},
   "source": [
    "## Question 4:\n",
    "\n",
    "### Consider a list of 10 elements of integer values. If the number in the list is divisible by 2, print the result as \"square of that number minus 2\".\n"
   ]
  },
  {
   "cell_type": "code",
   "execution_count": 13,
   "metadata": {},
   "outputs": [
    {
     "name": "stdout",
     "output_type": "stream",
     "text": [
      "2\n",
      "14\n",
      "7742\n",
      "2914\n"
     ]
    }
   ],
   "source": [
    "import math\n",
    "lst = [2,4,7,9,5,33,67,87,88,54]\n",
    "for i in lst:\n",
    "    if i%2 == 0:\n",
    "        print(int(math.pow(i,2) - 2))"
   ]
  },
  {
   "cell_type": "markdown",
   "metadata": {},
   "source": [
    "## Question 5:\n",
    "\n",
    "### Consider a list of 10 elements. Print all the elements in the list which are greater than 7 when that number is divided 2."
   ]
  },
  {
   "cell_type": "code",
   "execution_count": 20,
   "metadata": {},
   "outputs": [
    {
     "name": "stdout",
     "output_type": "stream",
     "text": [
      "8\n",
      "10\n",
      "12\n",
      "14\n"
     ]
    }
   ],
   "source": [
    "for i in range(5,16):\n",
    "    if i>7:\n",
    "        if i%2 == 0:\n",
    "            print(i)"
   ]
  }
 ],
 "metadata": {
  "kernelspec": {
   "display_name": "Python 3",
   "language": "python",
   "name": "python3"
  },
  "language_info": {
   "codemirror_mode": {
    "name": "ipython",
    "version": 3
   },
   "file_extension": ".py",
   "mimetype": "text/x-python",
   "name": "python",
   "nbconvert_exporter": "python",
   "pygments_lexer": "ipython3",
   "version": "3.8.2"
  }
 },
 "nbformat": 4,
 "nbformat_minor": 4
}
