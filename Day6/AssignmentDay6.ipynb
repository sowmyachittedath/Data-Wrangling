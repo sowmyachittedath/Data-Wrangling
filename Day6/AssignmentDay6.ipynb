{
 "cells": [
  {
   "cell_type": "markdown",
   "metadata": {},
   "source": [
    "## Question 1:\n",
    "### Assuming that we have some email addresses in the \"username@companyname.com\" format, please write program to print the company name of a given email address. Both user names and company names are composed of letters only."
   ]
  },
  {
   "cell_type": "code",
   "execution_count": 11,
   "metadata": {},
   "outputs": [
    {
     "name": "stdout",
     "output_type": "stream",
     "text": [
      "Enter a valid emailusername@companyname.com\n",
      "companyname\n"
     ]
    }
   ],
   "source": [
    "emailId = input(\"Enter a valid email\")\n",
    "compName = emailId[emailId.find(\"@\")+1:emailId.find(\".\")]\n",
    "print(compName)"
   ]
  },
  {
   "cell_type": "markdown",
   "metadata": {},
   "source": [
    "## Question 2:\n",
    "### Write a program that accepts a comma-separated sequence of words as input and prints the words in a comma separated sequence after sorting them alphabetically."
   ]
  },
  {
   "cell_type": "code",
   "execution_count": 9,
   "metadata": {},
   "outputs": [
    {
     "name": "stdout",
     "output_type": "stream",
     "text": [
      "Enter comma seperated stringsds,ghfhr,wrw,yuyi,zcz,as\n",
      "as,ghfhr,sds,wrw,yuyi,zcz\n"
     ]
    }
   ],
   "source": [
    "commaStr = input(\"Enter comma seperated string\")\n",
    "print(\",\".join(sorted(commaStr.split(\",\"))))"
   ]
  },
  {
   "cell_type": "markdown",
   "metadata": {},
   "source": [
    "## Question 3:\n",
    "### Create your own Jupyter Notebook for Sets. \n",
    "### Reference link: https://www.w3schools.com/python/python_sets.asp"
   ]
  },
  {
   "cell_type": "code",
   "execution_count": 10,
   "metadata": {},
   "outputs": [
    {
     "name": "stdout",
     "output_type": "stream",
     "text": [
      "#############################################The set is#############################################\n",
      "cycle\n",
      "car\n",
      "train\n",
      "bus\n",
      "#################################checking whether bus is in the set#################################\n",
      "True\n",
      "#########################################Adding jeep to set#########################################\n",
      "{'jeep', 'cycle', 'car', 'bus', 'train'}\n",
      "\n",
      "\n",
      "\n",
      "##################################Adding more items using update()##################################\n",
      "{'jeep', 'cycle', 'aeroplane', 'car', 'helicopter', 'jet', 'bus', 'train'}\n",
      "\n",
      "\n",
      "\n",
      "#####################################the length of this set is######################################\n",
      "8\n",
      "\n",
      "\n",
      "\n",
      "############################################Removing bus############################################\n",
      "{'jeep', 'cycle', 'aeroplane', 'car', 'helicopter', 'jet', 'train'}\n",
      "\n",
      "\n",
      "\n",
      "###########################################Discarding car###########################################\n",
      "{'jeep', 'cycle', 'aeroplane', 'helicopter', 'jet', 'train'}\n",
      "\n",
      "\n",
      "\n",
      "###########################################Pop() the item###########################################\n",
      "jeep\n",
      "\n",
      "\n",
      "\n",
      "########################################The resultant set is########################################\n",
      "{'cycle', 'aeroplane', 'helicopter', 'jet', 'train'}\n",
      "\n",
      "\n",
      "\n",
      "###########################################Empty the set############################################\n",
      "set()\n",
      "\n",
      "\n",
      "\n",
      "############################################Joining sets############################################\n",
      "{1, 'a', 'c', 2, 3, 'b'}\n",
      "\n",
      "\n",
      "\n",
      "###################################update set1 after adding set2####################################\n",
      "{1, 'a', 'c', 2, 3, 'b'}\n",
      "\n",
      "\n",
      "\n",
      "#########################################constructor set()##########################################\n",
      "{'car', 'cycle', 'bus'}\n"
     ]
    }
   ],
   "source": [
    "# SETS\n",
    "\n",
    "#initialize the set\n",
    "testSet = {\"car\",\"bus\",\"train\",\"cycle\"}\n",
    "\n",
    "print(\"The set is\".center(100,\"#\"))\n",
    "for x in testSet:\n",
    "    print(x)\n",
    "\n",
    "\n",
    "#Check if banana is bus in set\n",
    "\n",
    "print(\"checking whether bus is in the set\".center(100,\"#\"))\n",
    "print(\"bus\" in testSet)\n",
    "\n",
    "\n",
    "#Add Items\n",
    "#To add one item to a set use the add() method.\n",
    "\n",
    "print(\"Adding jeep to set\".center(100,\"#\"))\n",
    "testSet.add(\"jeep\")\n",
    "\n",
    "print(testSet)\n",
    "\n",
    "\n",
    "#To add more than one item to a set use the update() method.\n",
    "print(\"\\n\\n\")\n",
    "print(\"Adding more items using update()\".center(100,\"#\"))\n",
    "testSet.update([\"jet\", \"aeroplane\", \"helicopter\"])\n",
    "\n",
    "print(testSet)\n",
    "\n",
    "print(\"\\n\\n\")\n",
    "#Get the Length of a Set\n",
    "#To determine how many items a set has, use the len() method.\n",
    "print(\"the length of this set is\".center(100,\"#\"))\n",
    "print(len(testSet))\n",
    "\n",
    "#Remove Item\n",
    "#To remove an item in a set, use the remove(), or the discard() method.\n",
    "\n",
    "print(\"\\n\\n\")\n",
    "print(\"Removing bus\".center(100,\"#\"))\n",
    "testSet.remove(\"bus\")\n",
    "\n",
    "print(testSet)\n",
    "print(\"\\n\\n\")\n",
    "print(\"Discarding car\".center(100,\"#\"))\n",
    "testSet.discard(\"car\")\n",
    "\n",
    "print(testSet)\n",
    "print(\"\\n\\n\")\n",
    "\n",
    "#Remove the last item by using the pop() method:\n",
    "print(\"Pop() the item\".center(100,\"#\"))\n",
    "x = testSet.pop()\n",
    "\n",
    "print(x)\n",
    "print(\"\\n\\n\")\n",
    "print(\"The resultant set is\".center(100,\"#\"))\n",
    "print(testSet)\n",
    "\n",
    "#The clear() method empties the set:\n",
    "print(\"\\n\\n\")\n",
    "print(\"Empty the set\".center(100,\"#\"))\n",
    "testSet.clear()\n",
    "\n",
    "print(testSet)\n",
    "\n",
    "print(\"\\n\\n\")\n",
    "#The del keyword will delete the set completely:\n",
    "\n",
    "del testSet\n",
    "\n",
    "\n",
    "#Join Two Sets\n",
    "\n",
    "#You can use the union() method that returns a new set consists elements from both sets, \n",
    "#or the update() method that inserts all the items from one set into another:\n",
    "\n",
    "set1 = {\"a\", \"b\" , \"c\"}\n",
    "set2 = {1, 2, 3}\n",
    "\n",
    "set3 = set1.union(set2)\n",
    "print(\"Joining sets\".center(100,\"#\"))\n",
    "print(set3)\n",
    "\n",
    "\n",
    "#The update() method inserts the items in set2 into set1:\n",
    "print(\"\\n\\n\")\n",
    "print(\"update set1 after adding set2\".center(100,\"#\"))\n",
    "set1.update(set2)\n",
    "print(set1)\n",
    "\n",
    "\n",
    "#Using the set() constructor to make a set:\n",
    "print(\"\\n\\n\")\n",
    "print(\"constructor set()\".center(100,\"#\"))\n",
    "testSet = set((\"car\", \"bus\", \"cycle\")) # note the double round-brackets\n",
    "print(testSet)"
   ]
  },
  {
   "cell_type": "markdown",
   "metadata": {},
   "source": [
    "## Question 4:\n",
    "### Given a list of n-1 numbers ranging from 1 to n, your task is to find the missing number. There are no duplicates"
   ]
  },
  {
   "cell_type": "code",
   "execution_count": 38,
   "metadata": {},
   "outputs": [
    {
     "name": "stdout",
     "output_type": "stream",
     "text": [
      "Enter the numbers seperated by space : 2 4 6 8 10 12 14 16\n",
      "3\n",
      "5\n",
      "7\n",
      "9\n",
      "11\n",
      "13\n",
      "15\n"
     ]
    }
   ],
   "source": [
    "numLst = input(\"Enter the numbers seperated by space : \").split(\" \")\n",
    "nList=[]\n",
    "for n in numLst:\n",
    "    nList.append(int(n))\n",
    "numList = set(nList)\n",
    "for num in range(min(numList),max(numList)):\n",
    "    if num in numList:\n",
    "        continue\n",
    "    else:\n",
    "        print(num)"
   ]
  },
  {
   "cell_type": "markdown",
   "metadata": {},
   "source": [
    "## Question 5:\n",
    "### With a given list L, write a program to print this list L after removing all duplicate values with original order reserved.\n"
   ]
  },
  {
   "cell_type": "code",
   "execution_count": 46,
   "metadata": {},
   "outputs": [
    {
     "name": "stdout",
     "output_type": "stream",
     "text": [
      "Enter the numbers seperated by space : 12 24 35 24 88 120 155 88 120 155\n",
      "12 24 35 88 120 155 \n"
     ]
    }
   ],
   "source": [
    "numLst = input(\"Enter the numbers seperated by space : \").split(\" \")\n",
    "nList=[]\n",
    "for n in numLst:\n",
    "    nList.append(int(n))\n",
    "numList=[]\n",
    "for n in nList:\n",
    "    if n in numList:\n",
    "        continue\n",
    "    else:\n",
    "        numList.append(n)        \n",
    "numStr=\"\"\n",
    "for n in numList:\n",
    "    numStr = numStr + str(n) + \" \"\n",
    "# numStr = str(numList)\n",
    "print(numStr)"
   ]
  }
 ],
 "metadata": {
  "kernelspec": {
   "display_name": "Python 3",
   "language": "python",
   "name": "python3"
  },
  "language_info": {
   "codemirror_mode": {
    "name": "ipython",
    "version": 3
   },
   "file_extension": ".py",
   "mimetype": "text/x-python",
   "name": "python",
   "nbconvert_exporter": "python",
   "pygments_lexer": "ipython3",
   "version": "3.7.6"
  }
 },
 "nbformat": 4,
 "nbformat_minor": 4
}
