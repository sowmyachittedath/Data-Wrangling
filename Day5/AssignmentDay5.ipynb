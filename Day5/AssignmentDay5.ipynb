{
 "cells": [
  {
   "cell_type": "markdown",
   "metadata": {},
   "source": [
    "## Question 1 :\n",
    "### Write a Python program to find the first 20 non-even prime natural numbers.\n"
   ]
  },
  {
   "cell_type": "code",
   "execution_count": 81,
   "metadata": {},
   "outputs": [
    {
     "name": "stdout",
     "output_type": "stream",
     "text": [
      "Enter the range  of prime numbers20\n",
      "3,5,7,11,13,17,19,23,29,31,37,41,43,47,53,59,61,67,71,73\n"
     ]
    }
   ],
   "source": [
    "numbers = eval(input(\"Enter the range  of prime numbers\"))\n",
    "count=1\n",
    "num=2\n",
    "while count<=numbers:\n",
    "    if num%2==0:\n",
    "        num=num+1\n",
    "        continue\n",
    "    else:\n",
    "        i=2\n",
    "        flag=True\n",
    "        for i in range(2,num):\n",
    "            if num%i == 0:\n",
    "                flag = False\n",
    "                break\n",
    "        if flag==True:\n",
    "            print(num) if count == numbers else print(num, end=\",\")\n",
    "            count = count+1\n",
    "        num=num+1"
   ]
  },
  {
   "cell_type": "markdown",
   "metadata": {},
   "source": [
    "## Question 2 :\n",
    "### Write a Python program to implement 15 functions of string."
   ]
  },
  {
   "cell_type": "code",
   "execution_count": 47,
   "metadata": {},
   "outputs": [
    {
     "name": "stdout",
     "output_type": "stream",
     "text": [
      "Usage of capitalize() =  Python is fun\n",
      "Usage of casefold() =  python is fun\n",
      "Usage of isupper() =  False\n",
      "Usage of center() ##################Python is Fun###################\n",
      "Usage of isalnum() False\n",
      "Usage of format() Just for 199.00 rupees!\n",
      "Usage of split() ['Python', 'is', 'Fun']\n",
      "Usage of swapcase() pYTHON IS fUN\n",
      "Usage of find() 7\n",
      "Usage of join() Python@is@Fun\n",
      "Usage of zfill() 0000000000000000000000000000000000000000000000000000000000000000000Python is Fun\n",
      "Usage of replace() Python is great\n",
      "Usage of title() Python Is Fun\n",
      "Usage of strip() great fun\n",
      "Usage of index() 7\n",
      "Usage of islower() False\n"
     ]
    }
   ],
   "source": [
    "string = \"Python is Fun\"\n",
    "\n",
    "print(\"Usage of capitalize() = \",string.capitalize())\n",
    "\n",
    "print(\"Usage of casefold() = \",string.casefold())\n",
    "\n",
    "print(\"Usage of isupper() = \",string.isupper())\n",
    "\n",
    "print(\"Usage of center()\", string.center(50,\"#\"))\n",
    "\n",
    "print(\"Usage of isalnum()\", string.isalnum())\n",
    "\n",
    "amtString = \"Just for {cost:.2f} rupees!\"\n",
    "print(\"Usage of format()\",amtString.format(cost = 199))\n",
    "\n",
    "print(\"Usage of split()\", string.split())\n",
    "\n",
    "print(\"Usage of swapcase()\", string.swapcase())\n",
    "\n",
    "print(\"Usage of find()\", string.find(\"is\"))\n",
    "\n",
    "splitStr = string.split()\n",
    "print(\"Usage of join()\", \"@\".join(splitStr))\n",
    "\n",
    "print(\"Usage of zfill()\", string.zfill(80))\n",
    "\n",
    "print(\"Usage of replace()\", string.replace(\"Fun\",\"great\"))\n",
    "\n",
    "print(\"Usage of title()\", string.title())\n",
    "\n",
    "str = \"      great      \"\n",
    "print(\"Usage of strip()\", str.strip(),\"fun\")\n",
    "\n",
    "print(\"Usage of index()\", string.index(\"is\"))\n",
    "\n",
    "print(\"Usage of islower()\", string.islower())"
   ]
  },
  {
   "cell_type": "markdown",
   "metadata": {},
   "source": [
    "## Question 3:\n",
    "### Write a Python program to check if the given string is a Palindrome or Anagram or None of them. Display the message accordingly to the user.\n"
   ]
  },
  {
   "cell_type": "code",
   "execution_count": 80,
   "metadata": {},
   "outputs": [
    {
     "name": "stdout",
     "output_type": "stream",
     "text": [
      "Enter a string : fairy tales\n",
      "Enter a string to check Anagram : rail safety\n",
      "fairy tales  is Anagram\n"
     ]
    }
   ],
   "source": [
    "def isPalindrome(stri):\n",
    "    rev = stri[::-1]\n",
    "    return True if stri == rev else False\n",
    "\n",
    "def isAnagram(stri):\n",
    "    stringAna = input(\"Enter a string to check Anagram : \")\n",
    "    return True if sorted(stri) == sorted(stringAna) else False\n",
    "\n",
    "\n",
    "stri = input(\"Enter a string : \")\n",
    "if isPalindrome(stri):\n",
    "    print(stri , \" is Palindrome\")\n",
    "elif isAnagram(stri):\n",
    "    print(stri , \" is Anagram\")\n",
    "else:\n",
    "    print(\"None of these\")"
   ]
  },
  {
   "cell_type": "markdown",
   "metadata": {},
   "source": [
    "## Question 4:\n",
    "### Write a Python's user defined function that removes all the additional characters from the string and converts it finally to lower case using built-in lower(). eg: If the string is \"Dr. Darshan Ingle @AI-ML Trainer\", then the output be \"drdarshaningleaimltrainer\"."
   ]
  },
  {
   "cell_type": "code",
   "execution_count": 73,
   "metadata": {},
   "outputs": [
    {
     "name": "stdout",
     "output_type": "stream",
     "text": [
      "Enter a String with Special Characters : Dr. Darshan Ingle @AI-ML Trainer\n",
      "drdarshaningleaimltrainer\n"
     ]
    }
   ],
   "source": [
    "def removeSpecial(testStr):\n",
    "    import re\n",
    "    test = re.sub('[^A-Za-z]+','',testStr)\n",
    "    print(test.lower())\n",
    "\n",
    "\n",
    "testStr = input(\"Enter a String with Special Characters : \")\n",
    "removeSpecial(testStr)"
   ]
  }
 ],
 "metadata": {
  "celltoolbar": "Raw Cell Format",
  "kernelspec": {
   "display_name": "Python 3",
   "language": "python",
   "name": "python3"
  },
  "language_info": {
   "codemirror_mode": {
    "name": "ipython",
    "version": 3
   },
   "file_extension": ".py",
   "mimetype": "text/x-python",
   "name": "python",
   "nbconvert_exporter": "python",
   "pygments_lexer": "ipython3",
   "version": "3.8.2"
  }
 },
 "nbformat": 4,
 "nbformat_minor": 4
}
