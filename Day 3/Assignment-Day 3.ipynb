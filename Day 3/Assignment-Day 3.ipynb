{
 "cells": [
  {
   "cell_type": "markdown",
   "metadata": {},
   "source": [
    "##  Write a program to subtract two complex numbers in Python"
   ]
  },
  {
   "cell_type": "code",
   "execution_count": 1,
   "metadata": {},
   "outputs": [
    {
     "name": "stdout",
     "output_type": "stream",
     "text": [
      "(2+1j)\n"
     ]
    }
   ],
   "source": [
    "a=5+2j\n",
    "b=3+1j\n",
    "print(a-b)"
   ]
  },
  {
   "cell_type": "markdown",
   "metadata": {},
   "source": [
    "## Write a program to find the fourth root of a number. "
   ]
  },
  {
   "cell_type": "code",
   "execution_count": 4,
   "metadata": {},
   "outputs": [
    {
     "name": "stdout",
     "output_type": "stream",
     "text": [
      "Enter a number64\n",
      "2.8284271247461903\n"
     ]
    }
   ],
   "source": [
    "a=int(input(\"Enter a number\"))\n",
    "b= 1/4\n",
    "print(pow(a,b))\n"
   ]
  },
  {
   "cell_type": "markdown",
   "metadata": {},
   "source": [
    "## Write a program to swap two numbers in Python with the help of a temporary variable.\n"
   ]
  },
  {
   "cell_type": "code",
   "execution_count": 8,
   "metadata": {},
   "outputs": [
    {
     "name": "stdout",
     "output_type": "stream",
     "text": [
      "13 12\n"
     ]
    }
   ],
   "source": [
    "first = 12\n",
    "second = 13\n",
    "temp = first\n",
    "first = second\n",
    "second = temp\n",
    "\n",
    "print(first,second)"
   ]
  },
  {
   "cell_type": "markdown",
   "metadata": {},
   "source": [
    "## Write a program to swap two numbers in Python without using a temporary variable"
   ]
  },
  {
   "cell_type": "code",
   "execution_count": 7,
   "metadata": {},
   "outputs": [
    {
     "name": "stdout",
     "output_type": "stream",
     "text": [
      "13 12\n"
     ]
    }
   ],
   "source": [
    "first = 12\n",
    "second = 13\n",
    "first,second = second,first\n",
    "print(first,second)"
   ]
  },
  {
   "cell_type": "markdown",
   "metadata": {},
   "source": [
    "## Write a program to convert fahrenheit to kelvin and celsius both."
   ]
  },
  {
   "cell_type": "code",
   "execution_count": 15,
   "metadata": {},
   "outputs": [
    {
     "name": "stdout",
     "output_type": "stream",
     "text": [
      "Enter temperature64\n",
      "Given temperature in celsius - 17 °C\n",
      "Given temperature in Kelvin - 290.15 K\n"
     ]
    }
   ],
   "source": [
    "temperature = int(input(\"Enter temperature\"))\n",
    "celsius_temp = int((temperature - 32) *(5/9))\n",
    "kelvin_temp = celsius_temp+273.15\n",
    "print(\"Given temperature in celsius -\",celsius_temp,\"°C\")\n",
    "print(\"Given temperature in Kelvin -\",kelvin_temp,\"K\")"
   ]
  },
  {
   "cell_type": "markdown",
   "metadata": {},
   "source": [
    "## Write a program to demonstrate all the available data types in Python. Hint: Use type() function.\n"
   ]
  },
  {
   "cell_type": "code",
   "execution_count": 16,
   "metadata": {},
   "outputs": [
    {
     "name": "stdout",
     "output_type": "stream",
     "text": [
      "a is of  <class 'int'> data type\n",
      "b is  <class 'float'> data type\n",
      "c is  <class 'complex'> data type\n",
      "flag is  <class 'bool'> data type\n",
      "name is  <class 'str'> data type\n"
     ]
    }
   ],
   "source": [
    "a=23\n",
    "b=2.4\n",
    "c=12+34j\n",
    "flag=True\n",
    "name=\"Sowmya\"\n",
    "print(\"a is of \", type(a),\"data type\")\n",
    "print(\"b is \", type(b),\"data type\")\n",
    "print(\"c is \", type(c),\"data type\")\n",
    "print(\"flag is \", type(flag),\"data type\")\n",
    "print(\"name is \", type(name),\"data type\")"
   ]
  },
  {
   "cell_type": "markdown",
   "metadata": {},
   "source": [
    "## Create a Markdown cell in jupyter and list the steps discussed in the session by Dr. Darshan Ingle sir to create Github profile and upload Githubs Assignment link."
   ]
  },
  {
   "cell_type": "raw",
   "metadata": {},
   "source": [
    "Go to GitHub.com\n",
    "Select 'Sign Up'\n",
    "Fill the details with valid Mail ID\n",
    "After verifying github account is created\n",
    "\n",
    "Steps to upload GitHub Assignment Links:\n",
    "\n",
    "Create a new repository\n",
    "Add the Repository name as 'LetsUpgradeAI-ML'\n",
    "Add the Description as 'Assignment'\n",
    "Click the Create Repository\n",
    "\n",
    "How to upload assignment\n",
    "\n",
    "Click the upload an existing file \n",
    "Drag and drop the file into GitHub\n",
    "Click on 'Commit Changes'\n",
    "\n",
    "Assignment is now uploaded in Github.\n",
    "\n",
    "Open the LetsUpgrade Assignment submission form\n",
    "\n",
    "fill the email, and other required fields\n",
    "\n",
    "Copy paste the github url where you uploaded the project/assignment folder in your github\n",
    "\n",
    "Click on submit."
   ]
  }
 ],
 "metadata": {
  "kernelspec": {
   "display_name": "Python 3",
   "language": "python",
   "name": "python3"
  },
  "language_info": {
   "codemirror_mode": {
    "name": "ipython",
    "version": 3
   },
   "file_extension": ".py",
   "mimetype": "text/x-python",
   "name": "python",
   "nbconvert_exporter": "python",
   "pygments_lexer": "ipython3",
   "version": "3.8.2"
  }
 },
 "nbformat": 4,
 "nbformat_minor": 4
}
