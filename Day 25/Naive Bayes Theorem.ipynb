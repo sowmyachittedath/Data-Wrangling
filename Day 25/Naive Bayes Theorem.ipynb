{
 "cells": [
  {
   "cell_type": "code",
   "execution_count": 1,
   "metadata": {},
   "outputs": [
    {
     "data": {
      "text/plain": [
       "Index(['PassengerId', 'Survived', 'Pclass', 'Name', 'Sex', 'Age', 'SibSp',\n",
       "       'Parch', 'Ticket', 'Fare', 'Cabin', 'Embarked'],\n",
       "      dtype='object')"
      ]
     },
     "execution_count": 1,
     "metadata": {},
     "output_type": "execute_result"
    }
   ],
   "source": [
    "import pandas as pd\n",
    "data = pd.read_csv(\"train.csv\")\n",
    "data.columns"
   ]
  },
  {
   "cell_type": "code",
   "execution_count": 2,
   "metadata": {},
   "outputs": [
    {
     "data": {
      "text/plain": [
       "Index(['Survived', 'Pclass', 'Sex', 'Age', 'SibSp', 'Parch', 'Fare',\n",
       "       'Embarked'],\n",
       "      dtype='object')"
      ]
     },
     "execution_count": 2,
     "metadata": {},
     "output_type": "execute_result"
    }
   ],
   "source": [
    "data = data.drop(['PassengerId','Name','Cabin','Ticket'],axis=1)\n",
    "data.columns"
   ]
  },
  {
   "cell_type": "code",
   "execution_count": 3,
   "metadata": {},
   "outputs": [],
   "source": [
    "from sklearn import preprocessing\n",
    "from sklearn.model_selection import train_test_split\n",
    "from sklearn.naive_bayes import GaussianNB\n",
    "from sklearn.metrics import accuracy_score,confusion_matrix"
   ]
  },
  {
   "cell_type": "code",
   "execution_count": 4,
   "metadata": {},
   "outputs": [
    {
     "name": "stdout",
     "output_type": "stream",
     "text": [
      "['female' 'male']\n"
     ]
    }
   ],
   "source": [
    "le = preprocessing.LabelEncoder()\n",
    "le.fit(data['Sex'])\n",
    "print(le.classes_)\n",
    "data['Sex'] = le.transform(data['Sex'])\n",
    "data['Embarked'] = le.fit_transform(data['Embarked'])"
   ]
  },
  {
   "cell_type": "code",
   "execution_count": 5,
   "metadata": {},
   "outputs": [],
   "source": [
    "from sklearn.naive_bayes import BernoulliNB\n",
    "clf = BernoulliNB()"
   ]
  },
  {
   "cell_type": "code",
   "execution_count": 6,
   "metadata": {},
   "outputs": [],
   "source": [
    "def getAccuracyScore(attr):\n",
    "    print(\"DV is \",attr)\n",
    "    y = data[attr]\n",
    "    X = data.drop(attr,axis=1)\n",
    "    X_train,X_test,y_train,y_test = train_test_split(X,y,test_size=0.3,random_state=0)\n",
    "    y_pred = clf.fit(X_train,y_train).predict(X_test)\n",
    "    print(\"Accuracy Score\", accuracy_score(y_test,y_pred,normalize=True))\n",
    "    print(\"Confusion Matrix\", confusion_matrix(y_test,y_pred))\n",
    "    print(\"***************\")"
   ]
  },
  {
   "cell_type": "code",
   "execution_count": 8,
   "metadata": {},
   "outputs": [
    {
     "name": "stdout",
     "output_type": "stream",
     "text": [
      "DV is  Survived\n",
      "Accuracy Score 0.7715355805243446\n",
      "Confusion Matrix [[131  26]\n",
      " [ 35  75]]\n",
      "***************\n",
      "DV is  Pclass\n",
      "Accuracy Score 0.5917602996254682\n",
      "Confusion Matrix [[ 30   8  32]\n",
      " [  9  10  30]\n",
      " [ 24   6 118]]\n",
      "***************\n",
      "DV is  Sex\n",
      "Accuracy Score 0.7453183520599251\n",
      "Confusion Matrix [[ 49  49]\n",
      " [ 19 150]]\n",
      "***************\n",
      "DV is  SibSp\n",
      "Accuracy Score 0.6891385767790262\n",
      "Confusion Matrix [[162  20   0   0   0   0   0]\n",
      " [ 43  22   0   0   0   0   0]\n",
      " [  6   2   0   0   0   0   0]\n",
      " [  5   2   0   0   0   0   0]\n",
      " [  2   0   0   0   0   0   0]\n",
      " [  1   0   0   0   0   0   0]\n",
      " [  2   0   0   0   0   0   0]]\n",
      "***************\n",
      "DV is  Parch\n",
      "Accuracy Score 0.7153558052434457\n",
      "Confusion Matrix [[182  16   0   0   0]\n",
      " [ 31   9   0   0   0]\n",
      " [ 24   3   0   0   0]\n",
      " [  1   0   0   0   0]\n",
      " [  1   0   0   0   0]]\n",
      "***************\n",
      "DV is  Embarked\n",
      "Accuracy Score 0.7340823970037453\n",
      "Confusion Matrix [[  0   0  49]\n",
      " [  0   0  22]\n",
      " [  0   0 196]]\n",
      "***************\n"
     ]
    }
   ],
   "source": [
    "attr_list = ['Survived','Pclass','Sex','SibSp','Parch','Embarked']\n",
    "\n",
    "for attr in attr_list:\n",
    "    getAccuracyScore(attr)"
   ]
  }
 ],
 "metadata": {
  "kernelspec": {
   "display_name": "Python 3",
   "language": "python",
   "name": "python3"
  },
  "language_info": {
   "codemirror_mode": {
    "name": "ipython",
    "version": 3
   },
   "file_extension": ".py",
   "mimetype": "text/x-python",
   "name": "python",
   "nbconvert_exporter": "python",
   "pygments_lexer": "ipython3",
   "version": "3.7.6"
  }
 },
 "nbformat": 4,
 "nbformat_minor": 4
}
